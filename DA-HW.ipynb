{
 "cells": [
  {
   "cell_type": "code",
   "execution_count": 1,
   "id": "801468c0",
   "metadata": {},
   "outputs": [],
   "source": [
    "import pandas as pd"
   ]
  },
  {
   "cell_type": "code",
   "execution_count": 2,
   "id": "63f41d7b",
   "metadata": {
    "scrolled": true
   },
   "outputs": [
    {
     "data": {
      "text/html": [
       "<div>\n",
       "<style scoped>\n",
       "    .dataframe tbody tr th:only-of-type {\n",
       "        vertical-align: middle;\n",
       "    }\n",
       "\n",
       "    .dataframe tbody tr th {\n",
       "        vertical-align: top;\n",
       "    }\n",
       "\n",
       "    .dataframe thead th {\n",
       "        text-align: right;\n",
       "    }\n",
       "</style>\n",
       "<table border=\"1\" class=\"dataframe\">\n",
       "  <thead>\n",
       "    <tr style=\"text-align: right;\">\n",
       "      <th></th>\n",
       "      <th>gender</th>\n",
       "      <th>blood_type</th>\n",
       "      <th>pregnancies</th>\n",
       "      <th>glucose</th>\n",
       "      <th>diastolic</th>\n",
       "      <th>triceps</th>\n",
       "      <th>insulin</th>\n",
       "      <th>bmi</th>\n",
       "      <th>dpf</th>\n",
       "      <th>age</th>\n",
       "    </tr>\n",
       "  </thead>\n",
       "  <tbody>\n",
       "    <tr>\n",
       "      <th>0</th>\n",
       "      <td>Male</td>\n",
       "      <td>A</td>\n",
       "      <td>6</td>\n",
       "      <td>148.0</td>\n",
       "      <td>72.0</td>\n",
       "      <td>35.0</td>\n",
       "      <td>0.0</td>\n",
       "      <td>33.6</td>\n",
       "      <td>0.627</td>\n",
       "      <td>50.0</td>\n",
       "    </tr>\n",
       "    <tr>\n",
       "      <th>1</th>\n",
       "      <td>Male</td>\n",
       "      <td>A</td>\n",
       "      <td>1</td>\n",
       "      <td>85.0</td>\n",
       "      <td>66.0</td>\n",
       "      <td>29.0</td>\n",
       "      <td>0.0</td>\n",
       "      <td>26.6</td>\n",
       "      <td>0.351</td>\n",
       "      <td>31.0</td>\n",
       "    </tr>\n",
       "    <tr>\n",
       "      <th>2</th>\n",
       "      <td>Female</td>\n",
       "      <td>B</td>\n",
       "      <td>8</td>\n",
       "      <td>183.0</td>\n",
       "      <td>64.0</td>\n",
       "      <td>0.0</td>\n",
       "      <td>0.0</td>\n",
       "      <td>23.3</td>\n",
       "      <td>0.672</td>\n",
       "      <td>32.0</td>\n",
       "    </tr>\n",
       "    <tr>\n",
       "      <th>3</th>\n",
       "      <td>Male</td>\n",
       "      <td>A</td>\n",
       "      <td>1</td>\n",
       "      <td>89.0</td>\n",
       "      <td>66.0</td>\n",
       "      <td>23.0</td>\n",
       "      <td>94.0</td>\n",
       "      <td>28.1</td>\n",
       "      <td>0.167</td>\n",
       "      <td>21.0</td>\n",
       "    </tr>\n",
       "    <tr>\n",
       "      <th>4</th>\n",
       "      <td>Male</td>\n",
       "      <td>AB</td>\n",
       "      <td>0</td>\n",
       "      <td>137.0</td>\n",
       "      <td>40.0</td>\n",
       "      <td>35.0</td>\n",
       "      <td>168.0</td>\n",
       "      <td>43.1</td>\n",
       "      <td>2.288</td>\n",
       "      <td>33.0</td>\n",
       "    </tr>\n",
       "    <tr>\n",
       "      <th>...</th>\n",
       "      <td>...</td>\n",
       "      <td>...</td>\n",
       "      <td>...</td>\n",
       "      <td>...</td>\n",
       "      <td>...</td>\n",
       "      <td>...</td>\n",
       "      <td>...</td>\n",
       "      <td>...</td>\n",
       "      <td>...</td>\n",
       "      <td>...</td>\n",
       "    </tr>\n",
       "    <tr>\n",
       "      <th>763</th>\n",
       "      <td>Male</td>\n",
       "      <td>NaN</td>\n",
       "      <td>10</td>\n",
       "      <td>101.0</td>\n",
       "      <td>76.0</td>\n",
       "      <td>48.0</td>\n",
       "      <td>180.0</td>\n",
       "      <td>32.9</td>\n",
       "      <td>0.171</td>\n",
       "      <td>63.0</td>\n",
       "    </tr>\n",
       "    <tr>\n",
       "      <th>764</th>\n",
       "      <td>Mile</td>\n",
       "      <td>NaN</td>\n",
       "      <td>2</td>\n",
       "      <td>122.0</td>\n",
       "      <td>70.0</td>\n",
       "      <td>27.0</td>\n",
       "      <td>0.0</td>\n",
       "      <td>36.8</td>\n",
       "      <td>0.340</td>\n",
       "      <td>27.0</td>\n",
       "    </tr>\n",
       "    <tr>\n",
       "      <th>765</th>\n",
       "      <td>Male</td>\n",
       "      <td>NaN</td>\n",
       "      <td>5</td>\n",
       "      <td>121.0</td>\n",
       "      <td>72.0</td>\n",
       "      <td>23.0</td>\n",
       "      <td>112.0</td>\n",
       "      <td>26.2</td>\n",
       "      <td>0.245</td>\n",
       "      <td>30.0</td>\n",
       "    </tr>\n",
       "    <tr>\n",
       "      <th>766</th>\n",
       "      <td>Male</td>\n",
       "      <td>NaN</td>\n",
       "      <td>1</td>\n",
       "      <td>126.0</td>\n",
       "      <td>60.0</td>\n",
       "      <td>0.0</td>\n",
       "      <td>0.0</td>\n",
       "      <td>30.1</td>\n",
       "      <td>0.349</td>\n",
       "      <td>47.0</td>\n",
       "    </tr>\n",
       "    <tr>\n",
       "      <th>767</th>\n",
       "      <td>Female</td>\n",
       "      <td>NaN</td>\n",
       "      <td>1</td>\n",
       "      <td>93.0</td>\n",
       "      <td>70.0</td>\n",
       "      <td>31.0</td>\n",
       "      <td>0.0</td>\n",
       "      <td>30.4</td>\n",
       "      <td>0.315</td>\n",
       "      <td>23.0</td>\n",
       "    </tr>\n",
       "  </tbody>\n",
       "</table>\n",
       "<p>768 rows × 10 columns</p>\n",
       "</div>"
      ],
      "text/plain": [
       "     gender blood_type  pregnancies  glucose  diastolic  triceps  insulin  \\\n",
       "0      Male          A            6    148.0       72.0     35.0      0.0   \n",
       "1      Male          A            1     85.0       66.0     29.0      0.0   \n",
       "2    Female          B            8    183.0       64.0      0.0      0.0   \n",
       "3      Male          A            1     89.0       66.0     23.0     94.0   \n",
       "4      Male         AB            0    137.0       40.0     35.0    168.0   \n",
       "..      ...        ...          ...      ...        ...      ...      ...   \n",
       "763    Male        NaN           10    101.0       76.0     48.0    180.0   \n",
       "764    Mile        NaN            2    122.0       70.0     27.0      0.0   \n",
       "765    Male        NaN            5    121.0       72.0     23.0    112.0   \n",
       "766    Male        NaN            1    126.0       60.0      0.0      0.0   \n",
       "767  Female        NaN            1     93.0       70.0     31.0      0.0   \n",
       "\n",
       "      bmi    dpf   age  \n",
       "0    33.6  0.627  50.0  \n",
       "1    26.6  0.351  31.0  \n",
       "2    23.3  0.672  32.0  \n",
       "3    28.1  0.167  21.0  \n",
       "4    43.1  2.288  33.0  \n",
       "..    ...    ...   ...  \n",
       "763  32.9  0.171  63.0  \n",
       "764  36.8  0.340  27.0  \n",
       "765  26.2  0.245  30.0  \n",
       "766  30.1  0.349  47.0  \n",
       "767  30.4  0.315  23.0  \n",
       "\n",
       "[768 rows x 10 columns]"
      ]
     },
     "execution_count": 2,
     "metadata": {},
     "output_type": "execute_result"
    }
   ],
   "source": [
    "df = pd.read_csv('dirty_diabetes_data.csv')\n",
    "df"
   ]
  },
  {
   "cell_type": "markdown",
   "id": "f10eb990",
   "metadata": {},
   "source": [
    "<br><br><font color=red size=7><sup>---------------------------------------------------------------------------------</sup></font>"
   ]
  },
  {
   "cell_type": "markdown",
   "id": "507cc864",
   "metadata": {},
   "source": [
    "<br><b><font color=red size=7>Replacing wrong values</font></b>"
   ]
  },
  {
   "cell_type": "code",
   "execution_count": 3,
   "id": "70d8bb7a",
   "metadata": {},
   "outputs": [
    {
     "data": {
      "text/plain": [
       "Male      518\n",
       "Female    189\n",
       "Make       23\n",
       "female     23\n",
       "Mile        3\n",
       "Femali      2\n",
       "mal         1\n",
       "Femal       1\n",
       "Name: gender, dtype: int64"
      ]
     },
     "execution_count": 3,
     "metadata": {},
     "output_type": "execute_result"
    }
   ],
   "source": [
    "df.gender.value_counts()"
   ]
  },
  {
   "cell_type": "code",
   "execution_count": 4,
   "id": "eb9c47c5",
   "metadata": {},
   "outputs": [],
   "source": [
    "for i in df.index:\n",
    "    \n",
    "    if (df.iloc[i].gender==\"Make\") or (df.iloc[i].gender==\"Mile\") or (df.iloc[i].gender==\"mal\"):\n",
    "        df.iloc[i, 0] = 'Male'\n",
    "        \n",
    "    elif (df.iloc[i].gender==\"female\") or (df.iloc[i].gender==\"Femali\") or (df.iloc[i].gender==\"Femal\"):\n",
    "        df.iloc[i, 0] = 'Female'\n"
   ]
  },
  {
   "cell_type": "code",
   "execution_count": 5,
   "id": "fab4aa90",
   "metadata": {},
   "outputs": [
    {
     "data": {
      "text/plain": [
       "Male      545\n",
       "Female    215\n",
       "Name: gender, dtype: int64"
      ]
     },
     "execution_count": 5,
     "metadata": {},
     "output_type": "execute_result"
    }
   ],
   "source": [
    "df.gender.value_counts()"
   ]
  },
  {
   "cell_type": "code",
   "execution_count": 6,
   "id": "967b8b6e",
   "metadata": {},
   "outputs": [
    {
     "data": {
      "text/plain": [
       "A     382\n",
       "B     168\n",
       "O     135\n",
       "AB     55\n",
       "p       2\n",
       "a       2\n",
       "Ap      1\n",
       "P       1\n",
       "AA      1\n",
       "Name: blood_type, dtype: int64"
      ]
     },
     "execution_count": 6,
     "metadata": {},
     "output_type": "execute_result"
    }
   ],
   "source": [
    "df.blood_type.value_counts()"
   ]
  },
  {
   "cell_type": "code",
   "execution_count": 7,
   "id": "e7195c09",
   "metadata": {},
   "outputs": [],
   "source": [
    "for i in df.index:\n",
    "    \n",
    "    if (df.iloc[i].blood_type==\"a\") or (df.iloc[i].blood_type==\"AA\"):\n",
    "        df.iloc[i, 1] = 'A'\n",
    "        \n",
    "    elif (df.iloc[i].blood_type==\"p\") or (df.iloc[i].blood_type==\"P\"):\n",
    "        df.iloc[i, 1] = 'B'\n",
    "   \n",
    "    elif (df.iloc[i].blood_type==\"Ap\"):\n",
    "        df.iloc[i, 1] = 'AB'\n"
   ]
  },
  {
   "cell_type": "code",
   "execution_count": 8,
   "id": "f671810c",
   "metadata": {},
   "outputs": [
    {
     "data": {
      "text/plain": [
       "A     385\n",
       "B     171\n",
       "O     135\n",
       "AB     56\n",
       "Name: blood_type, dtype: int64"
      ]
     },
     "execution_count": 8,
     "metadata": {},
     "output_type": "execute_result"
    }
   ],
   "source": [
    "df.blood_type.value_counts()"
   ]
  },
  {
   "cell_type": "markdown",
   "id": "faba0870",
   "metadata": {},
   "source": [
    "<font color=red size=7><sup>---------------------------------------------------------------------------------</sup></font>"
   ]
  },
  {
   "cell_type": "markdown",
   "id": "4852ad08",
   "metadata": {},
   "source": [
    "<br><br><b><font color=red size=7>Cheaking for duplicates</font></b>"
   ]
  },
  {
   "cell_type": "code",
   "execution_count": 9,
   "id": "7936e4bb",
   "metadata": {},
   "outputs": [
    {
     "data": {
      "text/plain": [
       "0"
      ]
     },
     "execution_count": 9,
     "metadata": {},
     "output_type": "execute_result"
    }
   ],
   "source": [
    "df.duplicated().any().sum()"
   ]
  },
  {
   "cell_type": "markdown",
   "id": "cb7937e5",
   "metadata": {},
   "source": [
    "<font color=red size=7><sup>---------------------------------------------------------------------------------</sup></font>"
   ]
  },
  {
   "cell_type": "markdown",
   "id": "f8e695d1",
   "metadata": {},
   "source": [
    "<br><br><b><font color=red size=7>Cheaking for outliers</font></b>"
   ]
  },
  {
   "cell_type": "code",
   "execution_count": 10,
   "id": "4b05e491",
   "metadata": {},
   "outputs": [
    {
     "data": {
      "text/plain": [
       "array([[<AxesSubplot:title={'center':'pregnancies'}>,\n",
       "        <AxesSubplot:title={'center':'glucose'}>,\n",
       "        <AxesSubplot:title={'center':'diastolic'}>],\n",
       "       [<AxesSubplot:title={'center':'triceps'}>,\n",
       "        <AxesSubplot:title={'center':'insulin'}>,\n",
       "        <AxesSubplot:title={'center':'bmi'}>],\n",
       "       [<AxesSubplot:title={'center':'dpf'}>,\n",
       "        <AxesSubplot:title={'center':'age'}>, <AxesSubplot:>]],\n",
       "      dtype=object)"
      ]
     },
     "execution_count": 10,
     "metadata": {},
     "output_type": "execute_result"
    },
    {
     "data": {
      "image/png": "[encoded data removed]",
      "text/plain": [
       "<Figure size 432x288 with 9 Axes>"
      ]
     },
     "metadata": {
      "needs_background": "light"
     },
     "output_type": "display_data"
    }
   ],
   "source": [
    "df.hist(bins=30)"
   ]
  },
  {
   "cell_type": "code",
   "execution_count": 11,
   "id": "b78a0583",
   "metadata": {
    "scrolled": false
   },
   "outputs": [
    {
     "data": {
      "text/plain": [
       "<AxesSubplot:>"
      ]
     },
     "execution_count": 11,
     "metadata": {},
     "output_type": "execute_result"
    },
    {
     "data": {
      "image/png": "[encoded data removed]",
      "text/plain": [
       "<Figure size 432x288 with 1 Axes>"
      ]
     },
     "metadata": {
      "needs_background": "light"
     },
     "output_type": "display_data"
    }
   ],
   "source": [
    "df.pregnancies.hist(bins=30)"
   ]
  },
  {
   "cell_type": "code",
   "execution_count": 12,
   "id": "4e049ba8",
   "metadata": {},
   "outputs": [
    {
     "data": {
      "text/plain": [
       "<AxesSubplot:>"
      ]
     },
     "execution_count": 12,
     "metadata": {},
     "output_type": "execute_result"
    },
    {
     "data": {
      "image/png": "[encoded data removed]",
      "text/plain": [
       "<Figure size 432x288 with 1 Axes>"
      ]
     },
     "metadata": {
      "needs_background": "light"
     },
     "output_type": "display_data"
    }
   ],
   "source": [
    "df.glucose.hist(bins=30)"
   ]
  },
  {
   "cell_type": "code",
   "execution_count": 13,
   "id": "93163dd5",
   "metadata": {},
   "outputs": [
    {
     "data": {
      "text/plain": [
       "<AxesSubplot:>"
      ]
     },
     "execution_count": 13,
     "metadata": {},
     "output_type": "execute_result"
    },
    {
     "data": {
      "image/png": "[encoded data removed]",
      "text/plain": [
       "<Figure size 432x288 with 1 Axes>"
      ]
     },
     "metadata": {
      "needs_background": "light"
     },
     "output_type": "display_data"
    }
   ],
   "source": [
    "df = df[df.glucose>50]\n",
    "df.glucose.hist(bins=30)"
   ]
  },
  {
   "cell_type": "code",
   "execution_count": 14,
   "id": "100dfeef",
   "metadata": {},
   "outputs": [
    {
     "data": {
      "text/plain": [
       "<AxesSubplot:>"
      ]
     },
     "execution_count": 14,
     "metadata": {},
     "output_type": "execute_result"
    },
    {
     "data": {
      "image/png": "[encoded data removed]",
      "text/plain": [
       "<Figure size 432x288 with 1 Axes>"
      ]
     },
     "metadata": {
      "needs_background": "light"
     },
     "output_type": "display_data"
    }
   ],
   "source": [
    "df.diastolic.hist(bins=30)"
   ]
  },
  {
   "cell_type": "code",
   "execution_count": 15,
   "id": "040ca26d",
   "metadata": {},
   "outputs": [
    {
     "data": {
      "text/plain": [
       "<AxesSubplot:>"
      ]
     },
     "execution_count": 15,
     "metadata": {},
     "output_type": "execute_result"
    },
    {
     "data": {
      "image/png": "[encoded data removed]",
      "text/plain": [
       "<Figure size 432x288 with 1 Axes>"
      ]
     },
     "metadata": {
      "needs_background": "light"
     },
     "output_type": "display_data"
    }
   ],
   "source": [
    "df = df[df.diastolic>38]\n",
    "df.diastolic.hist(bins=30)"
   ]
  },
  {
   "cell_type": "code",
   "execution_count": 16,
   "id": "c87cc181",
   "metadata": {},
   "outputs": [
    {
     "data": {
      "text/plain": [
       "<AxesSubplot:>"
      ]
     },
     "execution_count": 16,
     "metadata": {},
     "output_type": "execute_result"
    },
    {
     "data": {
      "image/png": "[encoded data removed]",
      "text/plain": [
       "<Figure size 432x288 with 1 Axes>"
      ]
     },
     "metadata": {
      "needs_background": "light"
     },
     "output_type": "display_data"
    }
   ],
   "source": [
    "df = df[df.diastolic<110]\n",
    "df.diastolic.hist(bins=30)"
   ]
  },
  {
   "cell_type": "code",
   "execution_count": 17,
   "id": "109d4646",
   "metadata": {},
   "outputs": [
    {
     "data": {
      "text/plain": [
       "<AxesSubplot:>"
      ]
     },
     "execution_count": 17,
     "metadata": {},
     "output_type": "execute_result"
    },
    {
     "data": {
      "image/png": "[encoded data removed]",
      "text/plain": [
       "<Figure size 432x288 with 1 Axes>"
      ]
     },
     "metadata": {
      "needs_background": "light"
     },
     "output_type": "display_data"
    }
   ],
   "source": [
    "df.triceps.hist(bins=30)"
   ]
  },
  {
   "cell_type": "code",
   "execution_count": 18,
   "id": "3faec31d",
   "metadata": {},
   "outputs": [
    {
     "data": {
      "text/plain": [
       "<AxesSubplot:>"
      ]
     },
     "execution_count": 18,
     "metadata": {},
     "output_type": "execute_result"
    },
    {
     "data": {
      "image/png": "[encoded data removed]",
      "text/plain": [
       "<Figure size 432x288 with 1 Axes>"
      ]
     },
     "metadata": {
      "needs_background": "light"
     },
     "output_type": "display_data"
    }
   ],
   "source": [
    "df = df[df.triceps>0]\n",
    "df.triceps.hist(bins=30)"
   ]
  },
  {
   "cell_type": "code",
   "execution_count": 19,
   "id": "2fb40704",
   "metadata": {},
   "outputs": [
    {
     "data": {
      "text/plain": [
       "<AxesSubplot:>"
      ]
     },
     "execution_count": 19,
     "metadata": {},
     "output_type": "execute_result"
    },
    {
     "data": {
      "image/png": "[encoded data removed]",
      "text/plain": [
       "<Figure size 432x288 with 1 Axes>"
      ]
     },
     "metadata": {
      "needs_background": "light"
     },
     "output_type": "display_data"
    }
   ],
   "source": [
    "df = df[df.triceps<60]\n",
    "df.triceps.hist(bins=30)"
   ]
  },
  {
   "cell_type": "code",
   "execution_count": 20,
   "id": "9cabcae3",
   "metadata": {},
   "outputs": [
    {
     "data": {
      "text/plain": [
       "<AxesSubplot:>"
      ]
     },
     "execution_count": 20,
     "metadata": {},
     "output_type": "execute_result"
    },
    {
     "data": {
      "image/png": "[encoded data removed]",
      "text/plain": [
       "<Figure size 432x288 with 1 Axes>"
      ]
     },
     "metadata": {
      "needs_background": "light"
     },
     "output_type": "display_data"
    }
   ],
   "source": [
    "df.insulin.hist(bins=30)"
   ]
  },
  {
   "cell_type": "code",
   "execution_count": 21,
   "id": "da3d6738",
   "metadata": {},
   "outputs": [
    {
     "data": {
      "text/plain": [
       "<AxesSubplot:>"
      ]
     },
     "execution_count": 21,
     "metadata": {},
     "output_type": "execute_result"
    },
    {
     "data": {
      "image/png": "[encoded data removed]",
      "text/plain": [
       "<Figure size 432x288 with 1 Axes>"
      ]
     },
     "metadata": {
      "needs_background": "light"
     },
     "output_type": "display_data"
    }
   ],
   "source": [
    "df.bmi.hist(bins=30)"
   ]
  },
  {
   "cell_type": "code",
   "execution_count": 22,
   "id": "c6c1532d",
   "metadata": {},
   "outputs": [
    {
     "data": {
      "text/html": [
       "<div>\n",
       "<style scoped>\n",
       "    .dataframe tbody tr th:only-of-type {\n",
       "        vertical-align: middle;\n",
       "    }\n",
       "\n",
       "    .dataframe tbody tr th {\n",
       "        vertical-align: top;\n",
       "    }\n",
       "\n",
       "    .dataframe thead th {\n",
       "        text-align: right;\n",
       "    }\n",
       "</style>\n",
       "<table border=\"1\" class=\"dataframe\">\n",
       "  <thead>\n",
       "    <tr style=\"text-align: right;\">\n",
       "      <th></th>\n",
       "      <th>gender</th>\n",
       "      <th>blood_type</th>\n",
       "      <th>pregnancies</th>\n",
       "      <th>glucose</th>\n",
       "      <th>diastolic</th>\n",
       "      <th>triceps</th>\n",
       "      <th>insulin</th>\n",
       "      <th>bmi</th>\n",
       "      <th>dpf</th>\n",
       "      <th>age</th>\n",
       "    </tr>\n",
       "  </thead>\n",
       "  <tbody>\n",
       "    <tr>\n",
       "      <th>281</th>\n",
       "      <td>Male</td>\n",
       "      <td>A</td>\n",
       "      <td>10</td>\n",
       "      <td>129.0</td>\n",
       "      <td>76.0</td>\n",
       "      <td>28.0</td>\n",
       "      <td>122.0</td>\n",
       "      <td>-35.9</td>\n",
       "      <td>0.280</td>\n",
       "      <td>39.0</td>\n",
       "    </tr>\n",
       "    <tr>\n",
       "      <th>296</th>\n",
       "      <td>Male</td>\n",
       "      <td>B</td>\n",
       "      <td>2</td>\n",
       "      <td>146.0</td>\n",
       "      <td>70.0</td>\n",
       "      <td>38.0</td>\n",
       "      <td>360.0</td>\n",
       "      <td>-28.0</td>\n",
       "      <td>0.337</td>\n",
       "      <td>29.0</td>\n",
       "    </tr>\n",
       "    <tr>\n",
       "      <th>371</th>\n",
       "      <td>Male</td>\n",
       "      <td>O</td>\n",
       "      <td>0</td>\n",
       "      <td>118.0</td>\n",
       "      <td>64.0</td>\n",
       "      <td>23.0</td>\n",
       "      <td>89.0</td>\n",
       "      <td>0.0</td>\n",
       "      <td>1.731</td>\n",
       "      <td>21.0</td>\n",
       "    </tr>\n",
       "    <tr>\n",
       "      <th>145</th>\n",
       "      <td>Female</td>\n",
       "      <td>O</td>\n",
       "      <td>0</td>\n",
       "      <td>102.0</td>\n",
       "      <td>75.0</td>\n",
       "      <td>23.0</td>\n",
       "      <td>0.0</td>\n",
       "      <td>0.0</td>\n",
       "      <td>0.572</td>\n",
       "      <td>21.0</td>\n",
       "    </tr>\n",
       "    <tr>\n",
       "      <th>321</th>\n",
       "      <td>Male</td>\n",
       "      <td>A</td>\n",
       "      <td>3</td>\n",
       "      <td>112.0</td>\n",
       "      <td>74.0</td>\n",
       "      <td>30.0</td>\n",
       "      <td>0.0</td>\n",
       "      <td>1.0</td>\n",
       "      <td>0.197</td>\n",
       "      <td>25.0</td>\n",
       "    </tr>\n",
       "    <tr>\n",
       "      <th>...</th>\n",
       "      <td>...</td>\n",
       "      <td>...</td>\n",
       "      <td>...</td>\n",
       "      <td>...</td>\n",
       "      <td>...</td>\n",
       "      <td>...</td>\n",
       "      <td>...</td>\n",
       "      <td>...</td>\n",
       "      <td>...</td>\n",
       "      <td>...</td>\n",
       "    </tr>\n",
       "    <tr>\n",
       "      <th>120</th>\n",
       "      <td>Male</td>\n",
       "      <td>A</td>\n",
       "      <td>0</td>\n",
       "      <td>162.0</td>\n",
       "      <td>76.0</td>\n",
       "      <td>56.0</td>\n",
       "      <td>100.0</td>\n",
       "      <td>53.2</td>\n",
       "      <td>0.759</td>\n",
       "      <td>25.0</td>\n",
       "    </tr>\n",
       "    <tr>\n",
       "      <th>673</th>\n",
       "      <td>Male</td>\n",
       "      <td>A</td>\n",
       "      <td>3</td>\n",
       "      <td>123.0</td>\n",
       "      <td>100.0</td>\n",
       "      <td>35.0</td>\n",
       "      <td>240.0</td>\n",
       "      <td>57.3</td>\n",
       "      <td>0.880</td>\n",
       "      <td>22.0</td>\n",
       "    </tr>\n",
       "    <tr>\n",
       "      <th>381</th>\n",
       "      <td>Male</td>\n",
       "      <td>A</td>\n",
       "      <td>0</td>\n",
       "      <td>105.0</td>\n",
       "      <td>68.0</td>\n",
       "      <td>22.0</td>\n",
       "      <td>0.0</td>\n",
       "      <td>344.0</td>\n",
       "      <td>0.236</td>\n",
       "      <td>22.0</td>\n",
       "    </tr>\n",
       "    <tr>\n",
       "      <th>452</th>\n",
       "      <td>Male</td>\n",
       "      <td>B</td>\n",
       "      <td>0</td>\n",
       "      <td>91.0</td>\n",
       "      <td>68.0</td>\n",
       "      <td>32.0</td>\n",
       "      <td>210.0</td>\n",
       "      <td>399.0</td>\n",
       "      <td>0.381</td>\n",
       "      <td>25.0</td>\n",
       "    </tr>\n",
       "    <tr>\n",
       "      <th>395</th>\n",
       "      <td>Male</td>\n",
       "      <td>B</td>\n",
       "      <td>2</td>\n",
       "      <td>127.0</td>\n",
       "      <td>58.0</td>\n",
       "      <td>24.0</td>\n",
       "      <td>275.0</td>\n",
       "      <td>476.0</td>\n",
       "      <td>1.600</td>\n",
       "      <td>25.0</td>\n",
       "    </tr>\n",
       "  </tbody>\n",
       "</table>\n",
       "<p>517 rows × 10 columns</p>\n",
       "</div>"
      ],
      "text/plain": [
       "     gender blood_type  pregnancies  glucose  diastolic  triceps  insulin  \\\n",
       "281    Male          A           10    129.0       76.0     28.0    122.0   \n",
       "296    Male          B            2    146.0       70.0     38.0    360.0   \n",
       "371    Male          O            0    118.0       64.0     23.0     89.0   \n",
       "145  Female          O            0    102.0       75.0     23.0      0.0   \n",
       "321    Male          A            3    112.0       74.0     30.0      0.0   \n",
       "..      ...        ...          ...      ...        ...      ...      ...   \n",
       "120    Male          A            0    162.0       76.0     56.0    100.0   \n",
       "673    Male          A            3    123.0      100.0     35.0    240.0   \n",
       "381    Male          A            0    105.0       68.0     22.0      0.0   \n",
       "452    Male          B            0     91.0       68.0     32.0    210.0   \n",
       "395    Male          B            2    127.0       58.0     24.0    275.0   \n",
       "\n",
       "       bmi    dpf   age  \n",
       "281  -35.9  0.280  39.0  \n",
       "296  -28.0  0.337  29.0  \n",
       "371    0.0  1.731  21.0  \n",
       "145    0.0  0.572  21.0  \n",
       "321    1.0  0.197  25.0  \n",
       "..     ...    ...   ...  \n",
       "120   53.2  0.759  25.0  \n",
       "673   57.3  0.880  22.0  \n",
       "381  344.0  0.236  22.0  \n",
       "452  399.0  0.381  25.0  \n",
       "395  476.0  1.600  25.0  \n",
       "\n",
       "[517 rows x 10 columns]"
      ]
     },
     "execution_count": 22,
     "metadata": {},
     "output_type": "execute_result"
    }
   ],
   "source": [
    "df.sort_values(by=\"bmi\")"
   ]
  },
  {
   "cell_type": "code",
   "execution_count": 23,
   "id": "9df50459",
   "metadata": {},
   "outputs": [
    {
     "data": {
      "text/plain": [
       "<AxesSubplot:>"
      ]
     },
     "execution_count": 23,
     "metadata": {},
     "output_type": "execute_result"
    },
    {
     "data": {
      "image/png": "[encoded data removed]",
      "text/plain": [
       "<Figure size 432x288 with 1 Axes>"
      ]
     },
     "metadata": {
      "needs_background": "light"
     },
     "output_type": "display_data"
    }
   ],
   "source": [
    "df = df[df.bmi>18]\n",
    "df = df[df.bmi<60]\n",
    "df.bmi.hist()"
   ]
  },
  {
   "cell_type": "code",
   "execution_count": 24,
   "id": "6bf8eec6",
   "metadata": {},
   "outputs": [
    {
     "data": {
      "text/plain": [
       "<AxesSubplot:>"
      ]
     },
     "execution_count": 24,
     "metadata": {},
     "output_type": "execute_result"
    },
    {
     "data": {
      "image/png": "[encoded data removed]",
      "text/plain": [
       "<Figure size 432x288 with 1 Axes>"
      ]
     },
     "metadata": {
      "needs_background": "light"
     },
     "output_type": "display_data"
    }
   ],
   "source": [
    "df.dpf.hist(bins=30)"
   ]
  },
  {
   "cell_type": "code",
   "execution_count": 25,
   "id": "887fa2f6",
   "metadata": {
    "scrolled": true
   },
   "outputs": [
    {
     "data": {
      "text/plain": [
       "<AxesSubplot:>"
      ]
     },
     "execution_count": 25,
     "metadata": {},
     "output_type": "execute_result"
    },
    {
     "data": {
      "image/png": "[encoded data removed]",
      "text/plain": [
       "<Figure size 432x288 with 1 Axes>"
      ]
     },
     "metadata": {
      "needs_background": "light"
     },
     "output_type": "display_data"
    }
   ],
   "source": [
    "df.age.hist(bins=30)"
   ]
  },
  {
   "cell_type": "markdown",
   "id": "a026a4fb",
   "metadata": {},
   "source": [
    "<font color=red size=7><sup>---------------------------------------------------------------------------------</sup></font>"
   ]
  },
  {
   "cell_type": "markdown",
   "id": "1fe02b12",
   "metadata": {},
   "source": [
    "<br><br><b><font color=red size=7>Filling missing values</font></b>"
   ]
  },
  {
   "cell_type": "code",
   "execution_count": 27,
   "id": "0953d3d6",
   "metadata": {},
   "outputs": [
    {
     "data": {
      "text/plain": [
       "gender          True\n",
       "blood_type      True\n",
       "pregnancies    False\n",
       "glucose        False\n",
       "diastolic      False\n",
       "triceps        False\n",
       "insulin        False\n",
       "bmi            False\n",
       "dpf             True\n",
       "age             True\n",
       "dtype: bool"
      ]
     },
     "execution_count": 27,
     "metadata": {},
     "output_type": "execute_result"
    }
   ],
   "source": [
    "df.isnull().any()"
   ]
  },
  {
   "cell_type": "code",
   "execution_count": 28,
   "id": "0f282199",
   "metadata": {},
   "outputs": [
    {
     "data": {
      "text/plain": [
       "Male      358\n",
       "Female    144\n",
       "Name: gender, dtype: int64"
      ]
     },
     "execution_count": 28,
     "metadata": {},
     "output_type": "execute_result"
    }
   ],
   "source": [
    "df.gender.value_counts()"
   ]
  },
  {
   "cell_type": "code",
   "execution_count": 29,
   "id": "045f2b8a",
   "metadata": {},
   "outputs": [],
   "source": [
    "df.gender = df.gender.fillna('Male')"
   ]
  },
  {
   "cell_type": "code",
   "execution_count": 30,
   "id": "8fb6735e",
   "metadata": {},
   "outputs": [
    {
     "data": {
      "text/plain": [
       "False"
      ]
     },
     "execution_count": 30,
     "metadata": {},
     "output_type": "execute_result"
    }
   ],
   "source": [
    "df.gender.isnull().any()"
   ]
  },
  {
   "cell_type": "code",
   "execution_count": 31,
   "id": "4fd69cb9",
   "metadata": {},
   "outputs": [
    {
     "data": {
      "text/plain": [
       "A     255\n",
       "B     112\n",
       "O      88\n",
       "AB     39\n",
       "Name: blood_type, dtype: int64"
      ]
     },
     "execution_count": 31,
     "metadata": {},
     "output_type": "execute_result"
    }
   ],
   "source": [
    "df.blood_type.value_counts()"
   ]
  },
  {
   "cell_type": "code",
   "execution_count": 32,
   "id": "6310ec9d",
   "metadata": {},
   "outputs": [],
   "source": [
    "df.blood_type = df.blood_type.fillna('A')"
   ]
  },
  {
   "cell_type": "code",
   "execution_count": 33,
   "id": "fff2e9d9",
   "metadata": {},
   "outputs": [
    {
     "data": {
      "text/plain": [
       "False"
      ]
     },
     "execution_count": 33,
     "metadata": {},
     "output_type": "execute_result"
    }
   ],
   "source": [
    "df.blood_type.isnull().any()"
   ]
  },
  {
   "cell_type": "code",
   "execution_count": 34,
   "id": "3c7594ca",
   "metadata": {},
   "outputs": [],
   "source": [
    "df.glucose = df.glucose.fillna(df.glucose.mean())  \n",
    "df.dpf = df.dpf.fillna(df.glucose.mean())  \n",
    "df.age = df.age.fillna(df.age.mean())  "
   ]
  },
  {
   "cell_type": "code",
   "execution_count": 35,
   "id": "ab0716f4",
   "metadata": {},
   "outputs": [
    {
     "data": {
      "text/plain": [
       "gender         False\n",
       "blood_type     False\n",
       "pregnancies    False\n",
       "glucose        False\n",
       "diastolic      False\n",
       "triceps        False\n",
       "insulin        False\n",
       "bmi            False\n",
       "dpf            False\n",
       "age            False\n",
       "dtype: bool"
      ]
     },
     "execution_count": 35,
     "metadata": {},
     "output_type": "execute_result"
    }
   ],
   "source": [
    "df.isnull().any()"
   ]
  },
  {
   "cell_type": "markdown",
   "id": "3b8eff3b",
   "metadata": {},
   "source": [
    "<font color=red size=7><sup>---------------------------------------------------------------------------------</sup></font>"
   ]
  },
  {
   "cell_type": "markdown",
   "id": "bd3ae063",
   "metadata": {},
   "source": [
    "<br><br><b><font color=red size=6>Saving the clean DataFrame into new CSV file</font></b>"
   ]
  },
  {
   "cell_type": "code",
   "execution_count": 36,
   "id": "96a78dc2",
   "metadata": {},
   "outputs": [],
   "source": [
    "df.to_csv(\"clean_diabetes_data.csv\")"
   ]
  },
  {
   "cell_type": "code",
   "execution_count": null,
   "id": "3e60c974",
   "metadata": {},
   "outputs": [],
   "source": []
  },
  {
   "cell_type": "code",
   "execution_count": null,
   "id": "4d985539",
   "metadata": {},
   "outputs": [],
   "source": []
  }
 ],
 "metadata": {
  "kernelspec": {
   "display_name": "Python 3",
   "language": "python",
   "name": "python3"
  },
  "language_info": {
   "codemirror_mode": {
    "name": "ipython",
    "version": 3
   },
   "file_extension": ".py",
   "mimetype": "text/x-python",
   "name": "python",
   "nbconvert_exporter": "python",
   "pygments_lexer": "ipython3",
   "version": "3.8.8"
  }
 },
 "nbformat": 4,
 "nbformat_minor": 5
}
